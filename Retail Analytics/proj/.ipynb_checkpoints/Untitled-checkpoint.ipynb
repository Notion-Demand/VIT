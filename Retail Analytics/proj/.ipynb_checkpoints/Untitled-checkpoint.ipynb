{
 "cells": [
  {
   "cell_type": "code",
   "execution_count": null,
   "id": "4170299f-3549-4340-b8de-03a443ac6bbd",
   "metadata": {},
   "outputs": [],
   "source": [
    "import pandas as pd\n",
    "from sklearn.preprocessing import StandardScaler\n",
    "from sklearn.metrics.pairwise import cosine_similarity\n",
    "from flask import Flask, request, jsonify\n",
    "\n",
    "# Load the dataset\n",
    "data = pd.read_csv('Orders_New_query_2024_07_01.csv')  # Replace with your dataset path\n",
    "\n",
    "# Feature selection: Choose attributes that describe the product\n",
    "features = [\n",
    "    'ordered_quantity', 'tax_percent', 'net_sales_before_tax', \n",
    "    'gross_merchandise_value', 'refund_status', 'rto_status', \n",
    "    'cancellation_status', 'order_status', 'payment_status',\n",
    "    'gift_wrap_expense', 'packaging_expense', 'handling_expense',\n",
    "    'shipping_expense', 'marketplace_expense', 'payment_gateway_expense',\n",
    "    'other_adjustments'\n",
    "]\n",
    "\n",
    "# Preprocessing: Fill missing values and normalize\n",
    "data.fillna(0, inplace=True)  # Handle missing values\n",
    "scaler = StandardScaler()\n",
    "data[features] = scaler.fit_transform(data[features])  # Normalize numerical columns\n",
    "\n",
    "# Creating product profiles based on features\n",
    "product_profiles = data.groupby('sku_id')[features].mean()\n",
    "\n",
    "# Calculate similarity matrix using cosine similarity\n",
    "similarity_matrix = cosine_similarity(product_profiles)\n",
    "similarity_df = pd.DataFrame(similarity_matrix, index=product_profiles.index, columns=product_profiles.index)\n",
    "\n",
    "# Flask app setup\n",
    "app = Flask(__name__)\n",
    "\n",
    "@app.route('/recommend', methods=['GET'])\n",
    "def recommend():\n",
    "    # Get the SKU_ID from the user\n",
    "    sku_id = request.args.get('sku_id')\n",
    "    \n",
    "    if sku_id not in similarity_df.index:\n",
    "        return jsonify({\"error\": \"SKU_ID not found\"}), 404\n",
    "\n",
    "    # Get the top 5 similar products for the given SKU_ID\n",
    "    similar_products = similarity_df[sku_id].sort_values(ascending=False).head(6).index.tolist()\n",
    "    similar_products.remove(sku_id)  # Remove the queried product itself from recommendations\n",
    "\n",
    "    return jsonify({\"sku_id\": sku_id, \"recommended_sku_ids\": similar_products})\n",
    "\n",
    "if __name__ == '__main__':\n",
    "    app.run(debug=True)\n"
   ]
  }
 ],
 "metadata": {
  "kernelspec": {
   "display_name": "Python 3 (ipykernel)",
   "language": "python",
   "name": "python3"
  },
  "language_info": {
   "codemirror_mode": {
    "name": "ipython",
    "version": 3
   },
   "file_extension": ".py",
   "mimetype": "text/x-python",
   "name": "python",
   "nbconvert_exporter": "python",
   "pygments_lexer": "ipython3",
   "version": "3.12.4"
  }
 },
 "nbformat": 4,
 "nbformat_minor": 5
}
