{
 "cells": [
  {
   "cell_type": "code",
   "execution_count": 1,
   "id": "001a4833-2453-49a2-b8db-9f5249942878",
   "metadata": {},
   "outputs": [],
   "source": [
    "import pandas as pd\n",
    "import matplotlib.pyplot as plt"
   ]
  },
  {
   "cell_type": "code",
   "execution_count": 2,
   "id": "62d8d603-09d6-4777-b017-ce3dfd43b760",
   "metadata": {},
   "outputs": [],
   "source": [
    "df = pd.read_csv('Salary_Data.csv')"
   ]
  },
  {
   "cell_type": "code",
   "execution_count": 3,
   "id": "83b010e3-99c3-4ca6-8d8d-d66161aea5dc",
   "metadata": {},
   "outputs": [
    {
     "data": {
      "text/html": [
       "<div>\n",
       "<style scoped>\n",
       "    .dataframe tbody tr th:only-of-type {\n",
       "        vertical-align: middle;\n",
       "    }\n",
       "\n",
       "    .dataframe tbody tr th {\n",
       "        vertical-align: top;\n",
       "    }\n",
       "\n",
       "    .dataframe thead th {\n",
       "        text-align: right;\n",
       "    }\n",
       "</style>\n",
       "<table border=\"1\" class=\"dataframe\">\n",
       "  <thead>\n",
       "    <tr style=\"text-align: right;\">\n",
       "      <th></th>\n",
       "      <th>YearsExperience</th>\n",
       "      <th>Salary</th>\n",
       "    </tr>\n",
       "  </thead>\n",
       "  <tbody>\n",
       "    <tr>\n",
       "      <th>0</th>\n",
       "      <td>1.1</td>\n",
       "      <td>39343</td>\n",
       "    </tr>\n",
       "    <tr>\n",
       "      <th>1</th>\n",
       "      <td>1.3</td>\n",
       "      <td>46205</td>\n",
       "    </tr>\n",
       "    <tr>\n",
       "      <th>2</th>\n",
       "      <td>1.5</td>\n",
       "      <td>37731</td>\n",
       "    </tr>\n",
       "    <tr>\n",
       "      <th>3</th>\n",
       "      <td>2.0</td>\n",
       "      <td>43525</td>\n",
       "    </tr>\n",
       "    <tr>\n",
       "      <th>4</th>\n",
       "      <td>2.2</td>\n",
       "      <td>39891</td>\n",
       "    </tr>\n",
       "    <tr>\n",
       "      <th>5</th>\n",
       "      <td>2.9</td>\n",
       "      <td>56642</td>\n",
       "    </tr>\n",
       "    <tr>\n",
       "      <th>6</th>\n",
       "      <td>3.0</td>\n",
       "      <td>60150</td>\n",
       "    </tr>\n",
       "    <tr>\n",
       "      <th>7</th>\n",
       "      <td>3.2</td>\n",
       "      <td>54445</td>\n",
       "    </tr>\n",
       "    <tr>\n",
       "      <th>8</th>\n",
       "      <td>3.2</td>\n",
       "      <td>64445</td>\n",
       "    </tr>\n",
       "    <tr>\n",
       "      <th>9</th>\n",
       "      <td>3.7</td>\n",
       "      <td>57189</td>\n",
       "    </tr>\n",
       "    <tr>\n",
       "      <th>10</th>\n",
       "      <td>3.9</td>\n",
       "      <td>63218</td>\n",
       "    </tr>\n",
       "    <tr>\n",
       "      <th>11</th>\n",
       "      <td>4.0</td>\n",
       "      <td>55794</td>\n",
       "    </tr>\n",
       "    <tr>\n",
       "      <th>12</th>\n",
       "      <td>4.0</td>\n",
       "      <td>56957</td>\n",
       "    </tr>\n",
       "    <tr>\n",
       "      <th>13</th>\n",
       "      <td>4.1</td>\n",
       "      <td>57081</td>\n",
       "    </tr>\n",
       "    <tr>\n",
       "      <th>14</th>\n",
       "      <td>4.5</td>\n",
       "      <td>61111</td>\n",
       "    </tr>\n",
       "    <tr>\n",
       "      <th>15</th>\n",
       "      <td>4.9</td>\n",
       "      <td>67938</td>\n",
       "    </tr>\n",
       "    <tr>\n",
       "      <th>16</th>\n",
       "      <td>5.1</td>\n",
       "      <td>66029</td>\n",
       "    </tr>\n",
       "    <tr>\n",
       "      <th>17</th>\n",
       "      <td>5.3</td>\n",
       "      <td>83088</td>\n",
       "    </tr>\n",
       "    <tr>\n",
       "      <th>18</th>\n",
       "      <td>5.9</td>\n",
       "      <td>81363</td>\n",
       "    </tr>\n",
       "    <tr>\n",
       "      <th>19</th>\n",
       "      <td>6.0</td>\n",
       "      <td>93940</td>\n",
       "    </tr>\n",
       "    <tr>\n",
       "      <th>20</th>\n",
       "      <td>6.8</td>\n",
       "      <td>91738</td>\n",
       "    </tr>\n",
       "    <tr>\n",
       "      <th>21</th>\n",
       "      <td>7.1</td>\n",
       "      <td>98273</td>\n",
       "    </tr>\n",
       "    <tr>\n",
       "      <th>22</th>\n",
       "      <td>7.9</td>\n",
       "      <td>101302</td>\n",
       "    </tr>\n",
       "    <tr>\n",
       "      <th>23</th>\n",
       "      <td>8.2</td>\n",
       "      <td>113812</td>\n",
       "    </tr>\n",
       "    <tr>\n",
       "      <th>24</th>\n",
       "      <td>8.7</td>\n",
       "      <td>109431</td>\n",
       "    </tr>\n",
       "    <tr>\n",
       "      <th>25</th>\n",
       "      <td>9.0</td>\n",
       "      <td>105582</td>\n",
       "    </tr>\n",
       "    <tr>\n",
       "      <th>26</th>\n",
       "      <td>9.5</td>\n",
       "      <td>116969</td>\n",
       "    </tr>\n",
       "    <tr>\n",
       "      <th>27</th>\n",
       "      <td>9.6</td>\n",
       "      <td>112635</td>\n",
       "    </tr>\n",
       "    <tr>\n",
       "      <th>28</th>\n",
       "      <td>10.3</td>\n",
       "      <td>122391</td>\n",
       "    </tr>\n",
       "    <tr>\n",
       "      <th>29</th>\n",
       "      <td>10.5</td>\n",
       "      <td>121872</td>\n",
       "    </tr>\n",
       "  </tbody>\n",
       "</table>\n",
       "</div>"
      ],
      "text/plain": [
       "    YearsExperience  Salary\n",
       "0               1.1   39343\n",
       "1               1.3   46205\n",
       "2               1.5   37731\n",
       "3               2.0   43525\n",
       "4               2.2   39891\n",
       "5               2.9   56642\n",
       "6               3.0   60150\n",
       "7               3.2   54445\n",
       "8               3.2   64445\n",
       "9               3.7   57189\n",
       "10              3.9   63218\n",
       "11              4.0   55794\n",
       "12              4.0   56957\n",
       "13              4.1   57081\n",
       "14              4.5   61111\n",
       "15              4.9   67938\n",
       "16              5.1   66029\n",
       "17              5.3   83088\n",
       "18              5.9   81363\n",
       "19              6.0   93940\n",
       "20              6.8   91738\n",
       "21              7.1   98273\n",
       "22              7.9  101302\n",
       "23              8.2  113812\n",
       "24              8.7  109431\n",
       "25              9.0  105582\n",
       "26              9.5  116969\n",
       "27              9.6  112635\n",
       "28             10.3  122391\n",
       "29             10.5  121872"
      ]
     },
     "execution_count": 3,
     "metadata": {},
     "output_type": "execute_result"
    }
   ],
   "source": [
    "df"
   ]
  },
  {
   "cell_type": "code",
   "execution_count": 4,
   "id": "1b92b2fd-2312-41f0-b8b6-005c991075a2",
   "metadata": {},
   "outputs": [
    {
     "data": {
      "text/plain": [
       "(30, 2)"
      ]
     },
     "execution_count": 4,
     "metadata": {},
     "output_type": "execute_result"
    }
   ],
   "source": [
    "df.shape"
   ]
  },
  {
   "cell_type": "code",
   "execution_count": 5,
   "id": "5249ecd0-480a-406f-814e-d3e4223224c0",
   "metadata": {},
   "outputs": [
    {
     "data": {
      "text/plain": [
       "0      1.1\n",
       "1      1.3\n",
       "2      1.5\n",
       "3      2.0\n",
       "4      2.2\n",
       "5      2.9\n",
       "6      3.0\n",
       "7      3.2\n",
       "8      3.2\n",
       "9      3.7\n",
       "10     3.9\n",
       "11     4.0\n",
       "12     4.0\n",
       "13     4.1\n",
       "14     4.5\n",
       "15     4.9\n",
       "16     5.1\n",
       "17     5.3\n",
       "18     5.9\n",
       "19     6.0\n",
       "20     6.8\n",
       "21     7.1\n",
       "22     7.9\n",
       "23     8.2\n",
       "24     8.7\n",
       "25     9.0\n",
       "26     9.5\n",
       "27     9.6\n",
       "28    10.3\n",
       "29    10.5\n",
       "Name: YearsExperience, dtype: float64"
      ]
     },
     "execution_count": 5,
     "metadata": {},
     "output_type": "execute_result"
    }
   ],
   "source": [
    "x = df.loc[:, \"YearsExperience\"]\n",
    "y = df.loc[:, \"Salary\"]\n",
    "x"
   ]
  },
  {
   "cell_type": "code",
   "execution_count": 6,
   "id": "48b407de-2500-48c6-af97-2a7fe4df708c",
   "metadata": {},
   "outputs": [
    {
     "name": "stdout",
     "output_type": "stream",
     "text": [
      "0     1.1\n",
      "1     1.3\n",
      "2     1.5\n",
      "3     2.0\n",
      "4     2.2\n",
      "5     2.9\n",
      "6     3.0\n",
      "7     3.2\n",
      "8     3.2\n",
      "9     3.7\n",
      "10    3.9\n",
      "11    4.0\n",
      "12    4.0\n",
      "13    4.1\n",
      "14    4.5\n",
      "15    4.9\n",
      "16    5.1\n",
      "17    5.3\n",
      "18    5.9\n",
      "19    6.0\n",
      "20    6.8\n",
      "Name: YearsExperience, dtype: float64\n",
      "0     39343\n",
      "1     46205\n",
      "2     37731\n",
      "3     43525\n",
      "4     39891\n",
      "5     56642\n",
      "6     60150\n",
      "7     54445\n",
      "8     64445\n",
      "9     57189\n",
      "10    63218\n",
      "11    55794\n",
      "12    56957\n",
      "13    57081\n",
      "14    61111\n",
      "15    67938\n",
      "16    66029\n",
      "17    83088\n",
      "18    81363\n",
      "19    93940\n",
      "20    91738\n",
      "Name: Salary, dtype: int64\n"
     ]
    }
   ],
   "source": [
    "X_train = x.iloc[:21,]\n",
    "Y_train = y.iloc[:21,]\n",
    "print(X_train)\n",
    "print(Y_train)\n",
    "\n",
    "X_test = x.iloc[21:,]\n",
    "Y_test = y.iloc[21:,]"
   ]
  },
  {
   "cell_type": "code",
   "execution_count": 7,
   "id": "f363ee11-8210-4b62-a465-2347cdb89c4b",
   "metadata": {},
   "outputs": [],
   "source": [
    "N = len(X_train)\n",
    "sumX = sum(X_train)\n",
    "sumY = sum(Y_train)\n",
    "sumXY = sum(X_train * Y_train)\n",
    "sumXsq = sum(X_train ** 2)\n",
    "\n",
    "b = ((N * sumXY) - (sumX * sumY)) / ((N * sumXsq) - (sumX ** 2))\n",
    "a = (sumY - (b * sumX)) / N"
   ]
  },
  {
   "cell_type": "code",
   "execution_count": 8,
   "id": "99bf1dc9-768b-4f95-af11-635cbab7deb8",
   "metadata": {},
   "outputs": [
    {
     "data": {
      "text/plain": [
       "9306.903396311287"
      ]
     },
     "execution_count": 8,
     "metadata": {},
     "output_type": "execute_result"
    }
   ],
   "source": [
    "b"
   ]
  },
  {
   "cell_type": "code",
   "execution_count": 9,
   "id": "491614ea-95c1-47f5-b05f-0b69af093fb1",
   "metadata": {},
   "outputs": [
    {
     "data": {
      "text/plain": [
       "26014.304430949185"
      ]
     },
     "execution_count": 9,
     "metadata": {},
     "output_type": "execute_result"
    }
   ],
   "source": [
    "a"
   ]
  },
  {
   "cell_type": "code",
   "execution_count": 10,
   "id": "cae57959-eb07-4beb-9adc-e750ce39b955",
   "metadata": {},
   "outputs": [],
   "source": [
    "def pred(a,b,x):\n",
    "    return a + b*x"
   ]
  },
  {
   "cell_type": "code",
   "execution_count": 11,
   "id": "473445f4-3453-4160-9bd6-68e6e687039a",
   "metadata": {},
   "outputs": [
    {
     "name": "stdout",
     "output_type": "stream",
     "text": [
      "Experience :  1.1 Expected Salary: 36251.8981668916\n",
      "Experience :  1.3 Expected Salary: 38113.27884615386\n",
      "Experience :  1.5 Expected Salary: 39974.659525416115\n",
      "Experience :  2.0 Expected Salary: 44628.11122357176\n",
      "Experience :  2.2 Expected Salary: 46489.49190283402\n",
      "Experience :  2.9 Expected Salary: 53004.324280251916\n",
      "Experience :  3.0 Expected Salary: 53935.01461988305\n",
      "Experience :  3.2 Expected Salary: 55796.395299145304\n",
      "Experience :  3.2 Expected Salary: 55796.395299145304\n",
      "Experience :  3.7 Expected Salary: 60449.84699730095\n",
      "Experience :  3.9 Expected Salary: 62311.2276765632\n",
      "Experience :  4.0 Expected Salary: 63241.91801619434\n",
      "Experience :  4.0 Expected Salary: 63241.91801619434\n",
      "Experience :  4.1 Expected Salary: 64172.60835582546\n",
      "Experience :  4.5 Expected Salary: 67895.36971434997\n",
      "Experience :  4.9 Expected Salary: 71618.1310728745\n",
      "Experience :  5.1 Expected Salary: 73479.51175213675\n",
      "Experience :  5.3 Expected Salary: 75340.892431399\n",
      "Experience :  5.9 Expected Salary: 80925.03446918578\n",
      "Experience :  6.0 Expected Salary: 81855.7248088169\n",
      "Experience :  6.8 Expected Salary: 89301.24752586594\n"
     ]
    }
   ],
   "source": [
    "for x in X_train:\n",
    "  print(\"Experience : \",x,\"Expected Salary:\",pred(a,b,x))"
   ]
  },
  {
   "cell_type": "code",
   "execution_count": 12,
   "id": "8a7ebae2-bd0f-412e-955b-dc3d990d42b7",
   "metadata": {},
   "outputs": [
    {
     "name": "stdout",
     "output_type": "stream",
     "text": [
      "Experience :  7.1 Expected Salary: 92093.31854475931\n",
      "Experience :  7.9 Expected Salary: 99538.84126180835\n",
      "Experience :  8.2 Expected Salary: 102330.91228070173\n",
      "Experience :  8.7 Expected Salary: 106984.36397885738\n",
      "Experience :  9.0 Expected Salary: 109776.43499775077\n",
      "Experience :  9.5 Expected Salary: 114429.8866959064\n",
      "Experience :  9.6 Expected Salary: 115360.57703553753\n",
      "Experience :  10.3 Expected Salary: 121875.40941295544\n",
      "Experience :  10.5 Expected Salary: 123736.79009221769\n"
     ]
    }
   ],
   "source": [
    "for x in X_test:\n",
    "  print(\"Experience : \",x,\"Expected Salary:\",pred(a,b,x))"
   ]
  },
  {
   "cell_type": "code",
   "execution_count": 13,
   "id": "2253e6e2-0c76-4134-9c04-c00cfc1df113",
   "metadata": {},
   "outputs": [
    {
     "data": {
      "text/plain": [
       "81855.7248088169"
      ]
     },
     "execution_count": 13,
     "metadata": {},
     "output_type": "execute_result"
    }
   ],
   "source": [
    "y=pred(a,b,6)\n",
    "y"
   ]
  },
  {
   "cell_type": "code",
   "execution_count": 14,
   "id": "c9da77fa-69b4-490c-99a8-397a6cda923d",
   "metadata": {},
   "outputs": [],
   "source": [
    "pred_test = pred(a,b,X_test)\n",
    "pred_train = pred(a,b,X_train)"
   ]
  },
  {
   "cell_type": "code",
   "execution_count": 15,
   "id": "99b00f3d-4abb-4340-9957-10417680557e",
   "metadata": {},
   "outputs": [
    {
     "data": {
      "text/plain": [
       "21     92093.318545\n",
       "22     99538.841262\n",
       "23    102330.912281\n",
       "24    106984.363979\n",
       "25    109776.434998\n",
       "26    114429.886696\n",
       "27    115360.577036\n",
       "28    121875.409413\n",
       "29    123736.790092\n",
       "Name: YearsExperience, dtype: float64"
      ]
     },
     "execution_count": 15,
     "metadata": {},
     "output_type": "execute_result"
    }
   ],
   "source": [
    "pred_test"
   ]
  },
  {
   "cell_type": "code",
   "execution_count": 16,
   "id": "cd635743-d205-4d63-a040-5f5f7d490ae7",
   "metadata": {},
   "outputs": [
    {
     "data": {
      "text/plain": [
       "0     36251.898167\n",
       "1     38113.278846\n",
       "2     39974.659525\n",
       "3     44628.111224\n",
       "4     46489.491903\n",
       "5     53004.324280\n",
       "6     53935.014620\n",
       "7     55796.395299\n",
       "8     55796.395299\n",
       "9     60449.846997\n",
       "10    62311.227677\n",
       "11    63241.918016\n",
       "12    63241.918016\n",
       "13    64172.608356\n",
       "14    67895.369714\n",
       "15    71618.131073\n",
       "16    73479.511752\n",
       "17    75340.892431\n",
       "18    80925.034469\n",
       "19    81855.724809\n",
       "20    89301.247526\n",
       "Name: YearsExperience, dtype: float64"
      ]
     },
     "execution_count": 16,
     "metadata": {},
     "output_type": "execute_result"
    }
   ],
   "source": [
    "pred_train"
   ]
  },
  {
   "cell_type": "code",
   "execution_count": 17,
   "id": "9c7a9867-19ed-4eee-87ef-a7dcd535ce1b",
   "metadata": {},
   "outputs": [
    {
     "data": {
      "image/png": "[encoded data removed]",
      "text/plain": [
       "<Figure size 640x480 with 1 Axes>"
      ]
     },
     "metadata": {},
     "output_type": "display_data"
    }
   ],
   "source": [
    "plt.plot(X_train, pred_train, color=\"green\")\n",
    "plt.scatter(X_train, Y_train)\n",
    "for i, txt in enumerate(Y_train):\n",
    "    plt.annotate(f\"{txt}\", (X_train[i], Y_train[i]), fontsize=8, xytext=(0,4), textcoords='offset points')\n",
    "plt.show()"
   ]
  },
  {
   "cell_type": "code",
   "execution_count": 19,
   "id": "84f969d2-3564-4ced-9f42-032973e0fda2",
   "metadata": {},
   "outputs": [
    {
     "data": {
      "image/png": "[encoded data removed]",
      "text/plain": [
       "<Figure size 640x480 with 1 Axes>"
      ]
     },
     "metadata": {},
     "output_type": "display_data"
    }
   ],
   "source": [
    "plt.plot(X_test, pred_test, color=\"green\")\n",
    "plt.scatter(X_test, Y_test)\n",
    "\n",
    "# Use iloc to access the data by index position\n",
    "for i, txt in enumerate(Y_test):\n",
    "    plt.annotate(f\"{txt}\", (X_test.iloc[i], Y_test.iloc[i]), fontsize=8, xytext=(0, 6), textcoords='offset points')\n",
    "\n",
    "plt.show()\n"
   ]
  },
  {
   "cell_type": "code",
   "execution_count": 29,
   "id": "d771f792-ad40-4939-9976-83afab946d61",
   "metadata": {},
   "outputs": [
    {
     "ename": "NameError",
     "evalue": "name 'Y_trai' is not defined",
     "output_type": "error",
     "traceback": [
      "\u001b[0;31m---------------------------------------------------------------------------\u001b[0m",
      "\u001b[0;31mNameError\u001b[0m                                 Traceback (most recent call last)",
      "Cell \u001b[0;32mIn[29], line 15\u001b[0m\n\u001b[1;32m     12\u001b[0m \u001b[38;5;66;03m# Annotate the training data points with a slight offset\u001b[39;00m\n\u001b[1;32m     13\u001b[0m \u001b[38;5;28;01mfor\u001b[39;00m i \u001b[38;5;129;01min\u001b[39;00m \u001b[38;5;28mrange\u001b[39m(\u001b[38;5;28mlen\u001b[39m(Y_train)):\n\u001b[1;32m     14\u001b[0m     plt\u001b[38;5;241m.\u001b[39mannotate(\u001b[38;5;124mf\u001b[39m\u001b[38;5;124m\"\u001b[39m\u001b[38;5;132;01m{\u001b[39;00mY_train\u001b[38;5;241m.\u001b[39miloc[i]\u001b[38;5;132;01m}\u001b[39;00m\u001b[38;5;124m\"\u001b[39m, \n\u001b[0;32m---> 15\u001b[0m                  (X_train\u001b[38;5;241m.\u001b[39miloc[i], Y_trai\u001b[38;5;241m.\u001b[39miloc[i]), \n\u001b[1;32m     16\u001b[0m                  fontsize\u001b[38;5;241m=\u001b[39m\u001b[38;5;241m7\u001b[39m, \n\u001b[1;32m     17\u001b[0m                  xytext\u001b[38;5;241m=\u001b[39m(\u001b[38;5;241m5\u001b[39m, \u001b[38;5;241m-\u001b[39m\u001b[38;5;241m10\u001b[39m),  \u001b[38;5;66;03m# Offset the annotation by (x=5, y=-10)\u001b[39;00m\n\u001b[1;32m     18\u001b[0m                  textcoords\u001b[38;5;241m=\u001b[39m\u001b[38;5;124m'\u001b[39m\u001b[38;5;124moffset points\u001b[39m\u001b[38;5;124m'\u001b[39m)\n\u001b[1;32m     20\u001b[0m \u001b[38;5;66;03m# Annotate the test data points with a slight offset\u001b[39;00m\n\u001b[1;32m     21\u001b[0m \u001b[38;5;28;01mfor\u001b[39;00m i \u001b[38;5;129;01min\u001b[39;00m \u001b[38;5;28mrange\u001b[39m(\u001b[38;5;28mlen\u001b[39m(Y_test)):\n",
      "\u001b[0;31mNameError\u001b[0m: name 'Y_trai' is not defined"
     ]
    },
    {
     "data": {
      "image/png": "[encoded data removed]",
      "text/plain": [
       "<Figure size 640x480 with 1 Axes>"
      ]
     },
     "metadata": {},
     "output_type": "display_data"
    }
   ],
   "source": [
    "plt.plot(X_train, pred_train, color=\"green\", label=\"Predicted Train\")\n",
    "plt.scatter(X_train, Y_train, color=\"blue\", label=\"Actual Train\")\n",
    "plt.plot(X_test, pred_test, color=\"red\", label=\"Predicted Test\")\n",
    "plt.scatter(X_test, Y_test, color=\"orange\", label=\"Actual Test\")\n",
    "\n",
    "# Add titles and labels\n",
    "plt.title(\"Predicted vs Actual Values\")\n",
    "plt.xlabel(\"Years of Experience\")\n",
    "plt.ylabel(\"Salary\")\n",
    "plt.legend()\n",
    "\n",
    "# Annotate the training data points with a slight offset\n",
    "for i in range(len(Y_train)):\n",
    "    plt.annotate(f\"{Y_train.iloc[i]}\", \n",
    "                 (X_train.iloc[i], Y_train.iloc[i]), \n",
    "                 fontsize=7, \n",
    "                 xytext=(5, -10),  # Offset the annotation by (x=5, y=-10)\n",
    "                 textcoords='offset points')\n",
    "\n",
    "# Annotate the test data points with a slight offset\n",
    "for i in range(len(Y_test)):\n",
    "    plt.annotate(f\"{Y_test.iloc[i]}\", \n",
    "                 (X_test.iloc[i], Y_test.iloc[i]), \n",
    "                 fontsize=7, \n",
    "                 xytext=(5, -10),  # Offset the annotation by (x=5, y=-10)\n",
    "                 textcoords='offset points')\n",
    "\n",
    "# Show plot\n",
    "plt.show()\n"
   ]
  },
  {
   "cell_type": "code",
   "execution_count": 25,
   "id": "ec3ef0ca-7d16-4976-8c1e-4cee13a72c8d",
   "metadata": {},
   "outputs": [],
   "source": [
    "def mean_squared_error(true, pred):\n",
    "    squared_errors = (true - pred) ** 2\n",
    "    mse = sum(squared_errors) / len(true)\n",
    "    return mse"
   ]
  },
  {
   "cell_type": "code",
   "execution_count": 27,
   "id": "7ef11d9a-ae84-47c0-b7bb-e97861399543",
   "metadata": {},
   "outputs": [
    {
     "name": "stdout",
     "output_type": "stream",
     "text": [
      "MSE for Test Set: 23812335.766888306\n",
      "MSE for Train Set: 35108630.81224967\n"
     ]
    }
   ],
   "source": [
    "mse_test = mean_squared_error(Y_test, pred_test)\n",
    "mse_train = mean_squared_error(Y_train, pred_train)\n",
    "\n",
    "print(\"MSE for Test Set:\", mse_test)\n",
    "print(\"MSE for Train Set:\", mse_train)"
   ]
  },
  {
   "cell_type": "code",
   "execution_count": null,
   "id": "60a05507-8def-4fff-9480-368392e9e82d",
   "metadata": {},
   "outputs": [],
   "source": []
  }
 ],
 "metadata": {
  "kernelspec": {
   "display_name": "Python 3 (ipykernel)",
   "language": "python",
   "name": "python3"
  },
  "language_info": {
   "codemirror_mode": {
    "name": "ipython",
    "version": 3
   },
   "file_extension": ".py",
   "mimetype": "text/x-python",
   "name": "python",
   "nbconvert_exporter": "python",
   "pygments_lexer": "ipython3",
   "version": "3.12.4"
  }
 },
 "nbformat": 4,
 "nbformat_minor": 5
}
