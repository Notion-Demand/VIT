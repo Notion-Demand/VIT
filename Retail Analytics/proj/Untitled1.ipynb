{
 "cells": [
  {
   "cell_type": "code",
   "execution_count": 51,
   "id": "f1790976-cd29-4547-97a1-c8d1de3bbca3",
   "metadata": {},
   "outputs": [
    {
     "name": "stdout",
     "output_type": "stream",
     "text": [
      "Recommended items for area 'TAMIL NADU' excluding item 'amazon_B0CTMQ4YY7':\n",
      "                         Recommended Item  Ordered Quantity  Similarity Score\n",
      "2                      amazon_B0CTMQZ659              36.0          0.988317\n",
      "3                      amazon_B0CTMQF324              36.0          0.985451\n",
      "0                      amazon_B0CTMQPVJ2              67.0          0.983242\n",
      "6                      amazon_B0CTQBR3S3              26.0          0.977465\n",
      "12                     amazon_B0CTQ1NHQQ              18.0          0.968687\n",
      "18  shopify_9315201286433_48922095124769              14.0          0.964617\n",
      "7                      amazon_B0CTQH1B7H              23.0          0.947378\n",
      "1   shopify_9315443441953_48922373062945              45.0          0.946729\n",
      "9   shopify_9315034366241_48921914212641              22.0          0.945033\n",
      "5                      amazon_B0CQK7KQPW              27.0          0.939178\n",
      "4                      amazon_B0CQK7NG2H              28.0          0.935044\n",
      "8                      amazon_B0CQK69CQ5              22.0          0.912866\n",
      "10  shopify_9313722171681_48920254611745              21.0          0.901939\n",
      "13  shopify_8875949687073_47565520470305              18.0          0.899384\n",
      "14                     amazon_B0CQK9T3B6              17.0          0.899070\n",
      "11                     amazon_B0CQM6JMBP              18.0          0.887658\n",
      "19  shopify_8875949687073_47565520404769              13.0          0.838858\n",
      "16                     amazon_B0CQM7CT8Z              15.0          0.822443\n",
      "17                     amazon_B0CQKBLLF6              15.0          0.807665\n",
      "15                     amazon_B0CQM62MKW              16.0          0.787327\n"
     ]
    }
   ],
   "source": [
    "import pandas as pd\n",
    "from sklearn.neighbors import NearestNeighbors\n",
    "import numpy as np\n",
    "from sklearn.metrics.pairwise import cosine_similarity\n",
    "\n",
    "# Sample Data: Replace this with your dataset\n",
    "data = pd.read_csv('Orders_New_query_2024_07_01.csv')\n",
    "\n",
    "data['billing_address_state'] = data['billing_address_state'].str.strip().str.upper()\n",
    "\n",
    "# Create an area-item matrix where rows are areas and columns are items, values are sum of ordered_quantity\n",
    "area_item_matrix = data.pivot_table(index='billing_address_state', columns='sku_id', values='ordered_quantity', aggfunc='sum').fillna(0)\n",
    "\n",
    "# Compute item-item similarity using cosine similarity\n",
    "item_similarity_matrix = pd.DataFrame(cosine_similarity(area_item_matrix.T), index=area_item_matrix.columns, columns=area_item_matrix.columns)\n",
    "\n",
    "# Function to recommend items based on area and calculate similarity\n",
    "def recommend_items_with_similarity(area, item, area_item_matrix, item_similarity_matrix, n_recommendations=5):\n",
    "    # Convert area to uppercase to match the format in the dataset\n",
    "    area = area.strip().upper()\n",
    "    \n",
    "    # Check if the area is in the matrix\n",
    "    if area not in area_item_matrix.index:\n",
    "        return f\"Area '{area}' not found in the dataset.\"\n",
    "\n",
    "    # Get items bought in this area and sort by popularity\n",
    "    items_in_area = area_item_matrix.loc[area].sort_values(ascending=False)\n",
    "\n",
    "    # If the input item is not in the area or its quantity is zero, return a message\n",
    "    if item not in items_in_area or items_in_area[item] == 0:\n",
    "        return f\"The item '{item}' has not been bought in area '{area}'. Popular items:\\n{items_in_area.head(n_recommendations)}\"\n",
    "    \n",
    "    # Recommend other items frequently bought in this area, excluding the given item\n",
    "    recommendations = items_in_area[items_in_area.index != item].head(n_recommendations)\n",
    "    \n",
    "    # Get similarity scores for recommended items compared to the input item\n",
    "    similarity_scores = item_similarity_matrix.loc[item, recommendations.index]\n",
    "    \n",
    "    # Combine recommendations with similarity scores\n",
    "    recommendations_with_similarity = pd.DataFrame({\n",
    "        'Recommended Item': recommendations.index,\n",
    "        'Ordered Quantity': recommendations.values,\n",
    "        'Similarity Score': similarity_scores.values\n",
    "    }).sort_values(by='Similarity Score', ascending=False)\n",
    "\n",
    "    return recommendations_with_similarity\n",
    "\n",
    "# Example usage:\n",
    "area = \"TAMIL NADU\"  # Replace with the desired area\n",
    "input_item = 'amazon_B0CTMQ4YY7'  # Replace with the SKU ID of the item input by the user\n",
    "recommendations_with_similarity = recommend_items_with_similarity(area, input_item, area_item_matrix, item_similarity_matrix, 20)\n",
    "\n",
    "# Print recommendations with similarity scores\n",
    "print(f\"Recommended items for area '{area}' excluding item '{input_item}':\\n\", recommendations_with_similarity)\n",
    "\n"
   ]
  },
  {
   "cell_type": "code",
   "execution_count": null,
   "id": "f08317a4-611e-4f7a-bbf8-73f3748866e3",
   "metadata": {},
   "outputs": [],
   "source": []
  }
 ],
 "metadata": {
  "kernelspec": {
   "display_name": "Python 3 (ipykernel)",
   "language": "python",
   "name": "python3"
  },
  "language_info": {
   "codemirror_mode": {
    "name": "ipython",
    "version": 3
   },
   "file_extension": ".py",
   "mimetype": "text/x-python",
   "name": "python",
   "nbconvert_exporter": "python",
   "pygments_lexer": "ipython3",
   "version": "3.12.4"
  }
 },
 "nbformat": 4,
 "nbformat_minor": 5
}
